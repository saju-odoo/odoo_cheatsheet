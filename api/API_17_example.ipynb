{
 "cells": [
  {
   "cell_type": "markdown",
   "metadata": {},
   "source": [
    "Doc: https://www.odoo.com/documentation/17.0/developer/reference/external_api.html"
   ]
  },
  {
   "cell_type": "markdown",
   "metadata": {},
   "source": [
    "# Connection\n",
    "\n",
    "For the example, we connect to localhost and with username/password. You may want to connect via an API key, in this case, I invite you to look at the documentation.\n",
    "\n",
    "Change those parameters to connect to you own db."
   ]
  },
  {
   "cell_type": "markdown",
   "metadata": {},
   "source": [
    "### Params"
   ]
  },
  {
   "cell_type": "code",
   "execution_count": 10,
   "metadata": {},
   "outputs": [],
   "source": [
    "url = \"http://localhost:8069\"  \n",
    "db = \"db-name\"               \n",
    "username = 'admin'\n",
    "password = 'admin'"
   ]
  },
  {
   "cell_type": "markdown",
   "metadata": {},
   "source": [
    "### 1st Connection\n",
    "\n",
    "To begin with, you have to connect a first time to your db in order to get the uid. The following block has to print \"Check uid has a value: 'int'\", if it doesn't, it means the connection could not be completed and you should correct it before going any further."
   ]
  },
  {
   "cell_type": "markdown",
   "metadata": {},
   "source": [
    "Potential error:\n",
    "* If your password or username is wrong, uid will be False\n",
    "* If your url is wrong, the code will crash at step \"common.version()\" or it will crash afterward\n",
    "* If you db-name is wrong, you will have a traceback that will say so"
   ]
  },
  {
   "cell_type": "code",
   "execution_count": 11,
   "metadata": {},
   "outputs": [
    {
     "name": "stdout",
     "output_type": "stream",
     "text": [
      "Check uid has a value: 155\n"
     ]
    }
   ],
   "source": [
    "import xmlrpc.client\n",
    "common = xmlrpc.client.ServerProxy('{}/xmlrpc/2/common'.format(url))\n",
    "common.version()\n",
    "\n",
    "#authenticate\n",
    "uid = common.authenticate(db, username, password, {})\n",
    "\n",
    "print(\"Check uid has a value:\", uid)\n"
   ]
  },
  {
   "cell_type": "markdown",
   "metadata": {},
   "source": [
    "# Calling methods\n",
    "\n",
    "We can now interact with the API, by calling methods available into odoo"
   ]
  },
  {
   "cell_type": "code",
   "execution_count": 12,
   "metadata": {},
   "outputs": [],
   "source": [
    "models = xmlrpc.client.ServerProxy('{}/xmlrpc/2/object'.format(url))"
   ]
  },
  {
   "cell_type": "markdown",
   "metadata": {},
   "source": [
    "### search_read\n",
    "\n",
    "__search_read__ is a shortcut for the 2 methods __search__ and __read__, that respectively returns the ids of the records respecting the domain and returns the content of the seleceted fields of the record with the indicated ids.\n",
    "\n",
    "Note that you also have __search_count__ that counts the number of records respecting the domain and __fields_get__ that inspect a model’s fields"
   ]
  },
  {
   "cell_type": "code",
   "execution_count": 13,
   "metadata": {},
   "outputs": [
    {
     "name": "stdout",
     "output_type": "stream",
     "text": [
      "Partners [{'id': 372, 'name': 'AGC Glass Europe'}, {'id': 375, 'name': 'Actiris'}, {'id': 3, 'name': 'Administrator'}, {'id': 374, 'name': 'Ageas Group'}, {'id': 423, 'name': 'Ageas'}]\n",
      "Products [{'id': 52, 'name': 'ARIS Subscription', 'list_price': 0.0, 'standard_price': 0.0}, {'id': 24, 'name': 'Breakfast/Lunch/Diner', 'list_price': 0.0, 'standard_price': 0.0}, {'id': 54, 'name': 'Hardware', 'list_price': 0.0, 'standard_price': 0.0}, {'id': 26, 'name': 'Hotel/Accomodation', 'list_price': 0.0, 'standard_price': 0.0}, {'id': 53, 'name': 'License Suscription', 'list_price': 0.0, 'standard_price': 0.0}]\n"
     ]
    }
   ],
   "source": [
    "# Example Partner: search and read partners and their names limit = 5 only used for visibility of the example\n",
    "partners = models.execute_kw(db, uid, password, 'res.partner', 'search_read', [], {'fields': ['name'], 'limit': 5}) \n",
    "print(\"Partners\", partners)\n",
    "\n",
    "\n",
    "# Example Product: search and read products, their name, list and standard prices. For product \n",
    "products = models.execute_kw(db, uid, password, 'product.product', 'search_read', [[('detailed_type', 'in', ['consu', 'product'])]], {'fields': ['name', 'list_price', 'standard_price'], 'limit': 5}) \n",
    "print(\"Products\", products)"
   ]
  },
  {
   "cell_type": "markdown",
   "metadata": {},
   "source": [
    "### create\n",
    "\n",
    "__create__ enable to create new records"
   ]
  },
  {
   "cell_type": "code",
   "execution_count": 14,
   "metadata": {},
   "outputs": [
    {
     "name": "stdout",
     "output_type": "stream",
     "text": [
      "PO number: 124\n"
     ]
    }
   ],
   "source": [
    "import datetime\n",
    "\n",
    "# Example: This code create a so and than returns the its id\n",
    "so_data = {\n",
    "    'partner_id': partners[0]['id'], #many2one field, we use the id of the first partner we collected before\n",
    "    'date_order': datetime.datetime(2026,11,23).strftime('%Y-%m-%d'),\n",
    "    'state': 'draft',\n",
    "}\n",
    "so = models.execute_kw(db, uid, password, 'sale.order', 'create', [so_data])\n",
    "print(\"PO number:\", so)"
   ]
  },
  {
   "cell_type": "code",
   "execution_count": 15,
   "metadata": {},
   "outputs": [
    {
     "name": "stdout",
     "output_type": "stream",
     "text": [
      "So lines n° [349, 350] created\n"
     ]
    }
   ],
   "source": [
    "#create the SO lines----------------------------------------------------------------------------------------------------------------------------------------------------\n",
    "so_line_data = [\n",
    "    {\n",
    "        'order_id': so,\n",
    "        'product_id': products[0]['id']\n",
    "    },\n",
    "    {\n",
    "        'order_id': so,\n",
    "        'product_id': products[1]['id']\n",
    "    }\n",
    "    ]\n",
    "so_line = models.execute_kw(db, uid, password, 'sale.order.line', 'create', [so_line_data])\n",
    "print(\"So lines n°\", so_line, \"created\")"
   ]
  },
  {
   "cell_type": "markdown",
   "metadata": {},
   "source": [
    "### write\n",
    "\n",
    "__write__ enables to edit some existing records"
   ]
  },
  {
   "cell_type": "code",
   "execution_count": 16,
   "metadata": {},
   "outputs": [
    {
     "name": "stdout",
     "output_type": "stream",
     "text": [
      "before write [{'id': 124, 'name': 'S00061', 'state': 'draft'}]\n"
     ]
    }
   ],
   "source": [
    "so_before_modif = models.execute_kw(db, uid, password, 'sale.order', 'read', [so], {'fields': ['name', 'state']})\n",
    "print(\"before write\", so_before_modif)"
   ]
  },
  {
   "cell_type": "code",
   "execution_count": 17,
   "metadata": {},
   "outputs": [
    {
     "name": "stdout",
     "output_type": "stream",
     "text": [
      "True\n"
     ]
    }
   ],
   "source": [
    "so_modified = models.execute_kw(db, uid, password, 'sale.order', 'write', [[so], {'state': \"sale\"}])\n",
    "print(so_modified)"
   ]
  },
  {
   "cell_type": "code",
   "execution_count": 18,
   "metadata": {},
   "outputs": [
    {
     "name": "stdout",
     "output_type": "stream",
     "text": [
      "after write [{'id': 124, 'name': 'S00061', 'state': 'sale'}]\n"
     ]
    }
   ],
   "source": [
    "so_after_modif = models.execute_kw(db, uid, password, 'sale.order', 'read', [so], {'fields': ['name', 'state']})\n",
    "print(\"after write\", so_after_modif)"
   ]
  }
 ],
 "metadata": {
  "kernelspec": {
   "display_name": "Python 3",
   "language": "python",
   "name": "python3"
  },
  "language_info": {
   "codemirror_mode": {
    "name": "ipython",
    "version": 3
   },
   "file_extension": ".py",
   "mimetype": "text/x-python",
   "name": "python",
   "nbconvert_exporter": "python",
   "pygments_lexer": "ipython3",
   "version": "3.10.12"
  }
 },
 "nbformat": 4,
 "nbformat_minor": 2
}
