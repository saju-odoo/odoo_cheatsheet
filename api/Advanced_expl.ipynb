{
 "cells": [
  {
   "cell_type": "markdown",
   "metadata": {},
   "source": [
    "## 1: Database Connection"
   ]
  },
  {
   "cell_type": "code",
   "execution_count": 1,
   "metadata": {},
   "outputs": [],
   "source": [
    "url = \"https://api-expl.odoo.com/\"\n",
    "db = \"-api-expl-main-17145028\"\n",
    "username = 'admin@admin.com'\n",
    "password = 'b1a41da05b8ee3c1da1484def824aa689890824a'"
   ]
  },
  {
   "cell_type": "code",
   "execution_count": null,
   "metadata": {},
   "outputs": [],
   "source": [
    "import xmlrpc.client\n",
    "common = xmlrpc.client.ServerProxy('{}/xmlrpc/2/common'.format(url))\n",
    "common.version() # this is +- useless; only usefull to debug\n",
    "\n",
    "uid = common.authenticate(db, username, password, {})\n",
    "\n",
    "print(\"Check uid has a value:\", uid) # Returns the user id, not usefull if you already have it"
   ]
  },
  {
   "cell_type": "code",
   "execution_count": 3,
   "metadata": {},
   "outputs": [],
   "source": [
    "models = xmlrpc.client.ServerProxy('{}/xmlrpc/2/object'.format(url))"
   ]
  },
  {
   "cell_type": "markdown",
   "metadata": {},
   "source": [
    "## 2 SO Creation"
   ]
  },
  {
   "cell_type": "markdown",
   "metadata": {},
   "source": [
    "### 2.1: Search Partner"
   ]
  },
  {
   "cell_type": "code",
   "execution_count": null,
   "metadata": {},
   "outputs": [],
   "source": [
    "partner = models.execute_kw(db, uid, password, 'res.partner', 'search', [[('name', '=', 'Deco Addict')]]) \n",
    "print(\"Partner id\", partner)"
   ]
  },
  {
   "cell_type": "code",
   "execution_count": null,
   "metadata": {},
   "outputs": [],
   "source": [
    "# Example of other queries that could have been done, with different arguments\n",
    "partners = models.execute_kw(db, uid, password, 'res.partner', 'search', [[('name', 'ilike', 'Deco')]]) \n",
    "print(\"Partner ids (sans limit/offset)\", partners)\n",
    "\n",
    "partners = models.execute_kw(db, uid, password, 'res.partner', 'search', [[('name', 'ilike', 'Deco')]], {'limit': 1, 'offset': 1})\n",
    "print(\"Partner ids (avec limit/offset)\", partners)"
   ]
  },
  {
   "cell_type": "markdown",
   "metadata": {},
   "source": [
    "### 2.2: Recherche du produit"
   ]
  },
  {
   "cell_type": "markdown",
   "metadata": {},
   "source": [
    "You can see below 3 querries, they all returns exactly the same result. The only difference is where the arguments 'domain' and 'fields' are located. You can add them either in the list argument (based on their position in method signature) or the dictionnary one (based on the key)"
   ]
  },
  {
   "cell_type": "code",
   "execution_count": null,
   "metadata": {},
   "outputs": [],
   "source": [
    "product_var = models.execute_kw(db, uid, password, 'product.product', 'search_read', [], {'domain': [('default_code', '=', 'E-COM11')], 'fields': ['id', 'name', 'default_code']}) \n",
    "\n",
    "print(\"Product variant\", product_var)"
   ]
  },
  {
   "cell_type": "code",
   "execution_count": null,
   "metadata": {},
   "outputs": [],
   "source": [
    "product_var = models.execute_kw(db, uid, password, 'product.product', 'search_read', [[('default_code', '=', 'E-COM11')]], {'fields': ['id', 'name', 'default_code']}) \n",
    "\n",
    "print(\"Product variant\", product_var)"
   ]
  },
  {
   "cell_type": "code",
   "execution_count": null,
   "metadata": {},
   "outputs": [],
   "source": [
    "product_var = models.execute_kw(db, uid, password, 'product.product', 'search_read', [[('default_code', '=', 'E-COM11')], ['id', 'name', 'default_code']]) \n",
    "\n",
    "print(\"Product variant\", product_var)"
   ]
  },
  {
   "cell_type": "markdown",
   "metadata": {},
   "source": [
    "### 2.3: SO Creation"
   ]
  },
  {
   "cell_type": "code",
   "execution_count": null,
   "metadata": {},
   "outputs": [],
   "source": [
    "so_data = {\n",
    "    'partner_id': partner[0],\n",
    "    'order_line': [(0, 0, {'product_id': product_var[0]['id']})]\n",
    "}\n",
    "so = models.execute_kw(db, uid, password, 'sale.order', 'create', [so_data])\n",
    "\n",
    "print(\"SO id\", so)"
   ]
  },
  {
   "cell_type": "markdown",
   "metadata": {},
   "source": [
    "### 2.4: Line Addition"
   ]
  },
  {
   "cell_type": "code",
   "execution_count": null,
   "metadata": {},
   "outputs": [],
   "source": [
    "returned_value = models.execute_kw(db, uid, password, 'sale.order', 'write', [[so], {'order_line': [(0, 0, {'product_id': product_var[0]['id']})]}])\n",
    "\n",
    "print(\"Returned value\", returned_value)"
   ]
  },
  {
   "cell_type": "markdown",
   "metadata": {},
   "source": [
    "## 3 Send by mail"
   ]
  },
  {
   "cell_type": "markdown",
   "metadata": {},
   "source": [
    "Send by mail button creates a wizard, we have to deal with that: create the wizard with the necessary informations (mail templates,...) then send the mail. "
   ]
  },
  {
   "cell_type": "code",
   "execution_count": null,
   "metadata": {},
   "outputs": [],
   "source": [
    "# 'push' on send mail button, in user  interface this create the wizard. Here it returns a dictionnary with the infos required to create the wizard (with key 'context')\n",
    "action_send_mail = models.execute_kw(db, uid, password, \"sale.order\", \"action_quotation_send\", [so])\n",
    "\n",
    "from pprint import pprint\n",
    "print(\"Action send mail (returned wizard)\")\n",
    "pprint(action_send_mail)"
   ]
  },
  {
   "cell_type": "code",
   "execution_count": null,
   "metadata": {},
   "outputs": [],
   "source": [
    "# Wizard creation, with context from previous request\n",
    "action_context = action_send_mail.get(\"context\")\n",
    "\n",
    "wizard_args = [{}]\n",
    "wizard_kwargs = {\"context\": action_context}\n",
    "\n",
    "wizard_id = models.execute_kw(db, uid, password, \"mail.compose.message\", \"create\", wizard_args, wizard_kwargs)"
   ]
  },
  {
   "cell_type": "code",
   "execution_count": null,
   "metadata": {},
   "outputs": [],
   "source": [
    "# Send the mail\n",
    "wizard_close = models.execute_kw(db, uid, password, \"mail.compose.message\", \"action_send_mail\", [wizard_id])\n",
    "\n",
    "print(\"Returned value\", wizard_close)"
   ]
  },
  {
   "cell_type": "markdown",
   "metadata": {},
   "source": [
    "## 4: Confirm SO"
   ]
  },
  {
   "cell_type": "code",
   "execution_count": null,
   "metadata": {},
   "outputs": [],
   "source": [
    "returned_value = models.execute_kw(db, uid, password, 'sale.order', 'action_confirm', [[so]])\n",
    "\n",
    "print(\"Returned Value\", returned_value)"
   ]
  },
  {
   "cell_type": "markdown",
   "metadata": {},
   "source": [
    "## 5: Add log note"
   ]
  },
  {
   "cell_type": "code",
   "execution_count": null,
   "metadata": {},
   "outputs": [],
   "source": [
    "returned_value = models.execute_kw(db, uid, password, 'sale.order', 'message_post', [[so]], {'body': 'Ce Bon de Commande a été confirmé via l\\'API'})\n",
    "\n",
    "print(\"Returned Value\", returned_value)"
   ]
  },
  {
   "cell_type": "markdown",
   "metadata": {},
   "source": [
    "# NB ================================================================="
   ]
  },
  {
   "cell_type": "markdown",
   "metadata": {},
   "source": [
    "## 1) Api respects access rights"
   ]
  },
  {
   "cell_type": "code",
   "execution_count": null,
   "metadata": {},
   "outputs": [],
   "source": [
    "so_test_access = models.execute_kw(db, uid, password, 'sale.order', 'search_read', [[('id', '=', so)]], {'fields': ['id', 'name', 'state']})\n",
    "\n",
    "print(\"With admin access right we cann read the so\", so_test_access)"
   ]
  },
  {
   "cell_type": "markdown",
   "metadata": {},
   "source": [
    "### Creation of a nuew user, without sale acces rights"
   ]
  },
  {
   "cell_type": "code",
   "execution_count": null,
   "metadata": {},
   "outputs": [],
   "source": [
    "username = 'new@intern.lu'\n",
    "intern_password = 'password'\n",
    "\n",
    "try:\n",
    "    # creation of a new user\n",
    "    new_user = models.execute_kw(db, uid, password, 'res.users', 'create', [{'name': 'New Intern', 'login': username, 'password': intern_password}])\n",
    "    # Remove sales access right (only keep 'my sale only' group)\n",
    "    models.execute_kw(db, uid, password, 'res.users', 'write', [[new_user], {'groups_id': [(3, 22), (3, 23)]}])\n",
    "\n",
    "    print(\"New user created with id:\", new_user)\n",
    "except Exception as e:\n",
    "    print(\"Error while creating new user:\", e)\n",
    "    new_user = models.execute_kw(db, uid, password, 'res.users', 'search', [[('login', '=', username)]])\n",
    "    print(\"Users already exists, id:\", new_user)"
   ]
  },
  {
   "cell_type": "markdown",
   "metadata": {},
   "source": [
    "### Connection with this new user"
   ]
  },
  {
   "cell_type": "code",
   "execution_count": null,
   "metadata": {},
   "outputs": [],
   "source": [
    "intern_uid = common.authenticate(db, username, intern_password, {})\n",
    "\n",
    "print(\"Check uid has a value:\", intern_uid)"
   ]
  },
  {
   "cell_type": "code",
   "execution_count": null,
   "metadata": {},
   "outputs": [],
   "source": [
    "so_test_access = models.execute_kw(db, intern_uid, intern_password, 'sale.order', 'search_read', [[('id', '=', so)]], {'fields': ['id', 'name', 'state']})\n",
    "\n",
    "print(\"Without admin ACR, we can't read the SO\", so_test_access)"
   ]
  },
  {
   "cell_type": "markdown",
   "metadata": {},
   "source": [
    "## 2) Request limit on odoo online/SH\n",
    "Can be limited to 1 requests/sec. Note that on odoo SH it looks like the request are only slowed down (a lot)"
   ]
  },
  {
   "cell_type": "code",
   "execution_count": null,
   "metadata": {},
   "outputs": [],
   "source": [
    "for i in range(1000):\n",
    "    try:\n",
    "        so_test_num_requests = models.execute_kw(db, uid, password, 'sale.order', 'search_read', [[('id', '=', so)]], {'fields': ['id', 'name', 'state']})\n",
    "    except Exception as e:\n",
    "        print(\"Error while requesting info, i:\", i)\n",
    "        print(e)\n",
    "        break"
   ]
  }
 ],
 "metadata": {
  "kernelspec": {
   "display_name": "Python 3",
   "language": "python",
   "name": "python3"
  },
  "language_info": {
   "codemirror_mode": {
    "name": "ipython",
    "version": 3
   },
   "file_extension": ".py",
   "mimetype": "text/x-python",
   "name": "python",
   "nbconvert_exporter": "python",
   "pygments_lexer": "ipython3",
   "version": "3.10.12"
  }
 },
 "nbformat": 4,
 "nbformat_minor": 2
}
